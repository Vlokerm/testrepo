{
 "cells": [
  {
   "cell_type": "markdown",
   "id": "fe5b86e5-67c5-47bf-9c5c-d8629d6b5f31",
   "metadata": {},
   "source": [
    "# Data Science Tools and Ecosystem"
   ]
  },
  {
   "cell_type": "markdown",
   "id": "101f7f13-3a8a-454d-b2b2-6c1ddf30c29c",
   "metadata": {},
   "source": [
    "In this notebook, Data Science Tools and Ecosystem are summarized."
   ]
  },
  {
   "cell_type": "markdown",
   "id": "681b71d1-9d16-41a8-ba34-448546ff23da",
   "metadata": {},
   "source": [
    "**Objectives:**\n",
    "- popular languages\n",
    "- commonly used libraries\n",
    "- Data Science Tools\n",
    "- Arithmetic expressions"
   ]
  },
  {
   "cell_type": "markdown",
   "id": "ad2d6d88-90d8-4de7-900d-460a2f6ba026",
   "metadata": {},
   "source": [
    "Some of the popular languages that Data Scientists use are:\n",
    "1. Python\n",
    "2. R\n",
    "3. SQL"
   ]
  },
  {
   "cell_type": "markdown",
   "id": "ad0f6abd-4a72-484a-9387-d0917c8ffccd",
   "metadata": {},
   "source": [
    "Some of the commonly used libraries used by Data Scientists include:\n",
    "1. Pandas\n",
    "2. Matplotlib\n",
    "3. NumPy"
   ]
  },
  {
   "cell_type": "markdown",
   "id": "51089f36-54c8-4d9b-9280-b32be5ef0702",
   "metadata": {},
   "source": [
    "|Data Science Tools|\n",
    "|-----------------|\n",
    "|Visual studio code|\n",
    "|Git|\n",
    "|Docker|\n",
    "\n"
   ]
  },
  {
   "cell_type": "markdown",
   "id": "e2022c79-5ae9-486b-b07b-c5837045ad42",
   "metadata": {},
   "source": [
    "### Below are a few examples of evaluating arithmetic expressions in Python."
   ]
  },
  {
   "cell_type": "code",
   "execution_count": 12,
   "id": "e24e5b5b-db5f-4cc6-b39f-493daba18ea6",
   "metadata": {},
   "outputs": [
    {
     "data": {
      "text/plain": [
       "17"
      ]
     },
     "execution_count": 12,
     "metadata": {},
     "output_type": "execute_result"
    }
   ],
   "source": [
    "# This a simple arithmetic expression to mutiply then add integers\n",
    "(3*4)+5"
   ]
  },
  {
   "cell_type": "code",
   "execution_count": 13,
   "id": "cdcac7c5-f550-442d-937a-352372b2defe",
   "metadata": {},
   "outputs": [
    {
     "data": {
      "text/plain": [
       "3.3333333333333335"
      ]
     },
     "execution_count": 13,
     "metadata": {},
     "output_type": "execute_result"
    }
   ],
   "source": [
    "# This will convert 200 minutes to hours by diving by 60\n",
    "200/60"
   ]
  },
  {
   "cell_type": "markdown",
   "id": "6c3003dd-d624-4013-8fed-ec4b829bd7f4",
   "metadata": {},
   "source": [
    "## Author\n",
    "Vanlokeren Mitch"
   ]
  },
  {
   "cell_type": "code",
   "execution_count": null,
   "id": "8b342501-9690-41bd-a785-fd5d4313a189",
   "metadata": {},
   "outputs": [],
   "source": []
  }
 ],
 "metadata": {
  "kernelspec": {
   "display_name": "Python 3 (ipykernel)",
   "language": "python",
   "name": "python3"
  },
  "language_info": {
   "codemirror_mode": {
    "name": "ipython",
    "version": 3
   },
   "file_extension": ".py",
   "mimetype": "text/x-python",
   "name": "python",
   "nbconvert_exporter": "python",
   "pygments_lexer": "ipython3",
   "version": "3.12.7"
  }
 },
 "nbformat": 4,
 "nbformat_minor": 5
}
